{
 "cells": [
  {
   "cell_type": "code",
   "execution_count": 69,
   "id": "ce69d39c",
   "metadata": {},
   "outputs": [],
   "source": [
    "import numpy as np\n",
    "import pandas as pd\n",
    "import seaborn as sns\n",
    "import matplotlib.pyplot as plt\n",
    "from apyori import apriori\n",
    "from wordcloud import WordCloud\n",
    "import statistics"
   ]
  },
  {
   "cell_type": "code",
   "execution_count": 70,
   "id": "50fdfaa6",
   "metadata": {},
   "outputs": [],
   "source": [
    "Order_Details = pd.read_csv('Order_details(masked).csv')"
   ]
  },
  {
   "cell_type": "markdown",
   "id": "d9501863",
   "metadata": {},
   "source": [
    "# EDA & Data Cleaning"
   ]
  },
  {
   "cell_type": "code",
   "execution_count": 71,
   "id": "e6a41167",
   "metadata": {},
   "outputs": [
    {
     "data": {
      "text/html": [
       "<div>\n",
       "<style scoped>\n",
       "    .dataframe tbody tr th:only-of-type {\n",
       "        vertical-align: middle;\n",
       "    }\n",
       "\n",
       "    .dataframe tbody tr th {\n",
       "        vertical-align: top;\n",
       "    }\n",
       "\n",
       "    .dataframe thead th {\n",
       "        text-align: right;\n",
       "    }\n",
       "</style>\n",
       "<table border=\"1\" class=\"dataframe\">\n",
       "  <thead>\n",
       "    <tr style=\"text-align: right;\">\n",
       "      <th></th>\n",
       "      <th>Name</th>\n",
       "      <th>Email</th>\n",
       "      <th>Product</th>\n",
       "      <th>Transaction Date</th>\n",
       "    </tr>\n",
       "  </thead>\n",
       "  <tbody>\n",
       "    <tr>\n",
       "      <th>0</th>\n",
       "      <td>PERSON_1</td>\n",
       "      <td>PERSON_1@gmail.com</td>\n",
       "      <td>PRODUCT_75</td>\n",
       "      <td>01/03/2021 00:47:26</td>\n",
       "    </tr>\n",
       "    <tr>\n",
       "      <th>1</th>\n",
       "      <td>PERSON_2</td>\n",
       "      <td>PERSON_2@tataprojects.com</td>\n",
       "      <td>PRODUCT_75</td>\n",
       "      <td>01/03/2021 02:04:07</td>\n",
       "    </tr>\n",
       "    <tr>\n",
       "      <th>2</th>\n",
       "      <td>PERSON_3</td>\n",
       "      <td>PERSON_3@gmail.com</td>\n",
       "      <td>PRODUCT_63</td>\n",
       "      <td>01/03/2021 09:10:43</td>\n",
       "    </tr>\n",
       "    <tr>\n",
       "      <th>3</th>\n",
       "      <td>PERSON_4</td>\n",
       "      <td>PERSON_4@gmail.com</td>\n",
       "      <td>PRODUCT_63</td>\n",
       "      <td>01/03/2021 09:49:48</td>\n",
       "    </tr>\n",
       "    <tr>\n",
       "      <th>4</th>\n",
       "      <td>PERSON_5</td>\n",
       "      <td>PERSON_5@gmail.com</td>\n",
       "      <td>PRODUCT_34,PRODUCT_86,PRODUCT_57,PRODUCT_89</td>\n",
       "      <td>01/03/2021 10:56:46</td>\n",
       "    </tr>\n",
       "  </tbody>\n",
       "</table>\n",
       "</div>"
      ],
      "text/plain": [
       "       Name                      Email  \\\n",
       "0  PERSON_1         PERSON_1@gmail.com   \n",
       "1  PERSON_2  PERSON_2@tataprojects.com   \n",
       "2  PERSON_3         PERSON_3@gmail.com   \n",
       "3  PERSON_4         PERSON_4@gmail.com   \n",
       "4  PERSON_5         PERSON_5@gmail.com   \n",
       "\n",
       "                                       Product     Transaction Date  \n",
       "0                                   PRODUCT_75  01/03/2021 00:47:26  \n",
       "1                                   PRODUCT_75  01/03/2021 02:04:07  \n",
       "2                                   PRODUCT_63  01/03/2021 09:10:43  \n",
       "3                                   PRODUCT_63  01/03/2021 09:49:48  \n",
       "4  PRODUCT_34,PRODUCT_86,PRODUCT_57,PRODUCT_89  01/03/2021 10:56:46  "
      ]
     },
     "execution_count": 71,
     "metadata": {},
     "output_type": "execute_result"
    }
   ],
   "source": [
    "Order_Details.head()"
   ]
  },
  {
   "cell_type": "code",
   "execution_count": 72,
   "id": "dd599920",
   "metadata": {},
   "outputs": [
    {
     "name": "stdout",
     "output_type": "stream",
     "text": [
      "<class 'pandas.core.frame.DataFrame'>\n",
      "RangeIndex: 581 entries, 0 to 580\n",
      "Data columns (total 4 columns):\n",
      " #   Column            Non-Null Count  Dtype \n",
      "---  ------            --------------  ----- \n",
      " 0   Name              581 non-null    object\n",
      " 1   Email             581 non-null    object\n",
      " 2   Product           581 non-null    object\n",
      " 3   Transaction Date  581 non-null    object\n",
      "dtypes: object(4)\n",
      "memory usage: 18.3+ KB\n"
     ]
    }
   ],
   "source": [
    "Order_Details.info()"
   ]
  },
  {
   "cell_type": "code",
   "execution_count": 73,
   "id": "08f6dd5a",
   "metadata": {},
   "outputs": [
    {
     "data": {
      "text/html": [
       "<div>\n",
       "<style scoped>\n",
       "    .dataframe tbody tr th:only-of-type {\n",
       "        vertical-align: middle;\n",
       "    }\n",
       "\n",
       "    .dataframe tbody tr th {\n",
       "        vertical-align: top;\n",
       "    }\n",
       "\n",
       "    .dataframe thead th {\n",
       "        text-align: right;\n",
       "    }\n",
       "</style>\n",
       "<table border=\"1\" class=\"dataframe\">\n",
       "  <thead>\n",
       "    <tr style=\"text-align: right;\">\n",
       "      <th></th>\n",
       "      <th>Name</th>\n",
       "      <th>Email</th>\n",
       "      <th>Product</th>\n",
       "      <th>Transaction Date</th>\n",
       "    </tr>\n",
       "  </thead>\n",
       "  <tbody>\n",
       "    <tr>\n",
       "      <th>count</th>\n",
       "      <td>581</td>\n",
       "      <td>581</td>\n",
       "      <td>581</td>\n",
       "      <td>581</td>\n",
       "    </tr>\n",
       "    <tr>\n",
       "      <th>unique</th>\n",
       "      <td>525</td>\n",
       "      <td>525</td>\n",
       "      <td>252</td>\n",
       "      <td>581</td>\n",
       "    </tr>\n",
       "    <tr>\n",
       "      <th>top</th>\n",
       "      <td>PERSON_470</td>\n",
       "      <td>PERSON_470@gmail.com</td>\n",
       "      <td>PRODUCT_75</td>\n",
       "      <td>01/03/2021 00:47:26</td>\n",
       "    </tr>\n",
       "    <tr>\n",
       "      <th>freq</th>\n",
       "      <td>5</td>\n",
       "      <td>5</td>\n",
       "      <td>74</td>\n",
       "      <td>1</td>\n",
       "    </tr>\n",
       "  </tbody>\n",
       "</table>\n",
       "</div>"
      ],
      "text/plain": [
       "              Name                 Email     Product     Transaction Date\n",
       "count          581                   581         581                  581\n",
       "unique         525                   525         252                  581\n",
       "top     PERSON_470  PERSON_470@gmail.com  PRODUCT_75  01/03/2021 00:47:26\n",
       "freq             5                     5          74                    1"
      ]
     },
     "execution_count": 73,
     "metadata": {},
     "output_type": "execute_result"
    }
   ],
   "source": [
    "Order_Details.describe()"
   ]
  },
  {
   "cell_type": "code",
   "execution_count": 74,
   "id": "9a5c8d71",
   "metadata": {},
   "outputs": [
    {
     "data": {
      "text/plain": [
       "(581, 4)"
      ]
     },
     "execution_count": 74,
     "metadata": {},
     "output_type": "execute_result"
    }
   ],
   "source": [
    "Order_Details.shape"
   ]
  },
  {
   "cell_type": "code",
   "execution_count": 75,
   "id": "44e98f90",
   "metadata": {},
   "outputs": [
    {
     "data": {
      "text/plain": [
       "Name                0\n",
       "Email               0\n",
       "Product             0\n",
       "Transaction Date    0\n",
       "dtype: int64"
      ]
     },
     "execution_count": 75,
     "metadata": {},
     "output_type": "execute_result"
    }
   ],
   "source": [
    "Order_Details.isnull().sum() #no null value, so this part doesn't need to be cleaned"
   ]
  },
  {
   "cell_type": "code",
   "execution_count": 76,
   "id": "451ce71c",
   "metadata": {},
   "outputs": [
    {
     "name": "stdout",
     "output_type": "stream",
     "text": [
      "0        PERSON_1\n",
      "1        PERSON_2\n",
      "2        PERSON_3\n",
      "3        PERSON_4\n",
      "4        PERSON_5\n",
      "          ...    \n",
      "576    PERSON_522\n",
      "577    PERSON_523\n",
      "578    PERSON_523\n",
      "579    PERSON_524\n",
      "580    PERSON_525\n",
      "Name: Name, Length: 581, dtype: object\n"
     ]
    }
   ],
   "source": [
    "df1 = Order_Details[\"Name\"]\n",
    "print(df1)"
   ]
  },
  {
   "cell_type": "code",
   "execution_count": 77,
   "id": "d9f70554",
   "metadata": {},
   "outputs": [
    {
     "name": "stdout",
     "output_type": "stream",
     "text": [
      "(581,)\n"
     ]
    }
   ],
   "source": [
    "print(df1.shape)"
   ]
  },
  {
   "cell_type": "code",
   "execution_count": 78,
   "id": "32fe1add",
   "metadata": {},
   "outputs": [
    {
     "name": "stdout",
     "output_type": "stream",
     "text": [
      "0                                             PRODUCT_75\n",
      "1                                             PRODUCT_75\n",
      "2                                             PRODUCT_63\n",
      "3                                             PRODUCT_63\n",
      "4            PRODUCT_34,PRODUCT_86,PRODUCT_57,PRODUCT_89\n",
      "                             ...                        \n",
      "576    PRODUCT_48,PRODUCT_80,PRODUCT_71,PRODUCT_68,PR...\n",
      "577                                            PRODUCT_8\n",
      "578    PRODUCT_36,PRODUCT_14,PRODUCT_64,PRODUCT_28,PR...\n",
      "579    PRODUCT_75,PRODUCT_71,PRODUCT_86,PRODUCT_63,PR...\n",
      "580                                PRODUCT_66,PRODUCT_34\n",
      "Name: Product, Length: 581, dtype: object\n"
     ]
    }
   ],
   "source": [
    "df2 = Order_Details[\"Product\"]\n",
    "print(df2)"
   ]
  },
  {
   "cell_type": "code",
   "execution_count": 79,
   "id": "9fe73231",
   "metadata": {},
   "outputs": [
    {
     "name": "stdout",
     "output_type": "stream",
     "text": [
      "[['PERSON_1' 'PERSON_10' 'PERSON_100' ... 'PERSON_97' 'PERSON_98'\n",
      "  'PERSON_99']\n",
      " ['1' '1' '1' ... '1' '2' '1']]\n"
     ]
    }
   ],
   "source": [
    "unique, counts = np.unique(cust, return_counts=True)\n",
    "custf = (np.asarray((unique, counts)))\n",
    "print(custf)"
   ]
  },
  {
   "cell_type": "code",
   "execution_count": 80,
   "id": "63376e0b",
   "metadata": {},
   "outputs": [],
   "source": [
    "reshaped = \\\n",
    "(Order_Details.set_index(Order_Details.columns.drop('Product',1).tolist())\n",
    "   .Product.str.split(',', expand=True)\n",
    "   .stack()\n",
    "   .reset_index()\n",
    "   .rename(columns={0:'Product'})\n",
    "   .loc[:, Order_Details.columns]\n",
    ")"
   ]
  },
  {
   "cell_type": "code",
   "execution_count": 81,
   "id": "36af0e80",
   "metadata": {},
   "outputs": [
    {
     "name": "stdout",
     "output_type": "stream",
     "text": [
      "            Name                      Email     Product     Transaction Date\n",
      "0       PERSON_1         PERSON_1@gmail.com  PRODUCT_75  01/03/2021 00:47:26\n",
      "1       PERSON_2  PERSON_2@tataprojects.com  PRODUCT_75  01/03/2021 02:04:07\n",
      "2       PERSON_3         PERSON_3@gmail.com  PRODUCT_63  01/03/2021 09:10:43\n",
      "3       PERSON_4         PERSON_4@gmail.com  PRODUCT_63  01/03/2021 09:49:48\n",
      "4       PERSON_5         PERSON_5@gmail.com  PRODUCT_34  01/03/2021 10:56:46\n",
      "...          ...                        ...         ...                  ...\n",
      "1344  PERSON_524       PERSON_524@gmail.com  PRODUCT_86  07/03/2021 23:59:26\n",
      "1345  PERSON_524       PERSON_524@gmail.com  PRODUCT_63  07/03/2021 23:59:26\n",
      "1346  PERSON_524       PERSON_524@gmail.com  PRODUCT_54  07/03/2021 23:59:26\n",
      "1347  PERSON_525       PERSON_525@gmail.com  PRODUCT_66  07/03/2021 23:59:19\n",
      "1348  PERSON_525       PERSON_525@gmail.com  PRODUCT_34  07/03/2021 23:59:19\n",
      "\n",
      "[1349 rows x 4 columns]\n"
     ]
    }
   ],
   "source": [
    "print(reshaped)"
   ]
  },
  {
   "cell_type": "code",
   "execution_count": 82,
   "id": "e9faa838",
   "metadata": {},
   "outputs": [
    {
     "data": {
      "text/plain": [
       "0         PERSON_1\n",
       "1         PERSON_2\n",
       "2         PERSON_3\n",
       "3         PERSON_4\n",
       "4         PERSON_5\n",
       "           ...    \n",
       "1344    PERSON_524\n",
       "1345    PERSON_524\n",
       "1346    PERSON_524\n",
       "1347    PERSON_525\n",
       "1348    PERSON_525\n",
       "Name: Name, Length: 1349, dtype: object"
      ]
     },
     "execution_count": 82,
     "metadata": {},
     "output_type": "execute_result"
    }
   ],
   "source": [
    "reshaped['Name']"
   ]
  },
  {
   "cell_type": "code",
   "execution_count": 83,
   "id": "2c35181f",
   "metadata": {},
   "outputs": [
    {
     "data": {
      "text/plain": [
       "0    PERSON_470\n",
       "dtype: object"
      ]
     },
     "execution_count": 83,
     "metadata": {},
     "output_type": "execute_result"
    }
   ],
   "source": [
    "#Most Frequent Customer\n",
    "\n",
    "Order_Details['Name'].mode()"
   ]
  },
  {
   "cell_type": "markdown",
   "id": "cfe6afd6",
   "metadata": {},
   "source": [
    "## Who Are The Most Frequent Customers?"
   ]
  },
  {
   "cell_type": "code",
   "execution_count": 84,
   "id": "bd0c2acf",
   "metadata": {},
   "outputs": [
    {
     "name": "stdout",
     "output_type": "stream",
     "text": [
      "\u001b[1mCustomer Name\u001b[0m\t\u001b[1mNumber of Times Purchased\u001b[0m\n",
      "\n",
      "PERSON_470\t\t5\n",
      "PERSON_330\t\t4\n",
      "PERSON_75\t\t3\n",
      "PERSON_156\t\t3\n",
      "PERSON_290\t\t3\n",
      "PERSON_283\t\t3\n",
      "PERSON_263\t\t2\n",
      "PERSON_91\t\t2\n",
      "PERSON_207\t\t2\n",
      "PERSON_344\t\t2\n",
      "PERSON_343\t\t2\n",
      "PERSON_335\t\t2\n",
      "PERSON_71\t\t2\n",
      "PERSON_74\t\t2\n",
      "PERSON_195\t\t2\n"
     ]
    }
   ],
   "source": [
    "# Top N Customers By Most Frequency of Occurrence\n",
    "\n",
    "n = 15\n",
    "custmost1 = Order_Details['Name'].value_counts().index.tolist()[:n]\n",
    "custmost2 = Order_Details['Name'].value_counts().values.tolist()[:n]\n",
    "custmost = np.column_stack((custmost1,custmost2))\n",
    "print(\"\\033[1mCustomer Name\\033[0m\" + '\\t' + \"\\033[1mNumber of Times Purchased\\033[0m\\n\")\n",
    "print('\\n'.join('\\t\\t'.join(map(str, row)) for row in custmost))"
   ]
  },
  {
   "cell_type": "markdown",
   "id": "b63e791f",
   "metadata": {},
   "source": [
    "## Which Products Are Most Sold/Purchased?"
   ]
  },
  {
   "cell_type": "code",
   "execution_count": 85,
   "id": "5b112ec6",
   "metadata": {},
   "outputs": [
    {
     "name": "stdout",
     "output_type": "stream",
     "text": [
      "\u001b[1mProduct Name\u001b[0m\t\u001b[1mUnits Sold (Number/Quantity)\u001b[0m\n",
      "\n",
      "PRODUCT_75\t\t121\n",
      "PRODUCT_63\t\t97\n",
      "PRODUCT_27\t\t76\n",
      "PRODUCT_25\t\t59\n",
      "PRODUCT_12\t\t52\n",
      "PRODUCT_74\t\t49\n",
      "PRODUCT_34\t\t44\n",
      "PRODUCT_68\t\t32\n",
      "PRODUCT_57\t\t30\n",
      "PRODUCT_85\t\t26\n",
      "PRODUCT_66\t\t25\n",
      "PRODUCT_72\t\t24\n",
      "PRODUCT_84\t\t24\n",
      "PRODUCT_8\t\t23\n",
      "PRODUCT_24\t\t23\n",
      "PRODUCT_61\t\t22\n",
      "PRODUCT_76\t\t21\n",
      "PRODUCT_32\t\t20\n",
      "PRODUCT_33\t\t20\n",
      "PRODUCT_78\t\t18\n",
      "PRODUCT_90\t\t18\n",
      "PRODUCT_51\t\t18\n",
      "PRODUCT_83\t\t18\n",
      "PRODUCT_62\t\t17\n",
      "PRODUCT_26\t\t17\n",
      "PRODUCT_55\t\t16\n",
      "PRODUCT_89\t\t16\n",
      "PRODUCT_4\t\t15\n",
      "PRODUCT_28\t\t15\n",
      "PRODUCT_30\t\t15\n"
     ]
    }
   ],
   "source": [
    "# Top N Products Sold By Most Frequency Of Occurence\n",
    "\n",
    "n = 30\n",
    "\n",
    "prodmost1 = reshaped['Product'].value_counts().index.tolist()[:n]\n",
    "prodmost2 = reshaped['Product'].value_counts().values.tolist()[:n]\n",
    "prodmost = np.column_stack((prodmost1,prodmost2))\n",
    "print(\"\\033[1mProduct Name\\033[0m\" + '\\t' + \"\\033[1mUnits Sold (Number/Quantity)\\033[0m\\n\")\n",
    "print('\\n'.join('\\t\\t'.join(map(str, row)) for row in prodmost))"
   ]
  },
  {
   "cell_type": "code",
   "execution_count": null,
   "id": "ddfa5f27",
   "metadata": {},
   "outputs": [],
   "source": []
  }
 ],
 "metadata": {
  "kernelspec": {
   "display_name": "Python 3 (ipykernel)",
   "language": "python",
   "name": "python3"
  },
  "language_info": {
   "codemirror_mode": {
    "name": "ipython",
    "version": 3
   },
   "file_extension": ".py",
   "mimetype": "text/x-python",
   "name": "python",
   "nbconvert_exporter": "python",
   "pygments_lexer": "ipython3",
   "version": "3.9.7"
  }
 },
 "nbformat": 4,
 "nbformat_minor": 5
}
